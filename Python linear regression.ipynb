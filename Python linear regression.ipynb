{
 "cells": [
  {
   "cell_type": "code",
   "execution_count": 2,
   "metadata": {},
   "outputs": [
    {
     "name": "stdout",
     "output_type": "stream",
     "text": [
      "Input x = 0 and y = 0 in order stop inputing the values...\n",
      "x: 65\n",
      "y: 68\n",
      "x: 63\n",
      "y: 66\n",
      "x: 67\n",
      "y: 68\n",
      "x: 64\n",
      "y: 65\n",
      "x: 68\n",
      "y: 69\n",
      "x: 62\n",
      "y: 66\n",
      "x: 70\n",
      "y: 68\n",
      "x: 66\n",
      "y: 65\n",
      "x: 68\n",
      "y: 71\n",
      "x: 67\n",
      "y: 67\n",
      "x: 69\n",
      "y: 68\n",
      "x: 71\n",
      "y: 70\n",
      "x: 0\n",
      "y: 0\n",
      "Summation of x:  800\n",
      "Summation of y:  811\n",
      "Summation of x*y:  54107\n",
      "Summation of x^2:  53418\n"
     ]
    },
    {
     "data": {
      "image/png": "[encoded data removed]",
      "text/plain": [
       "<Figure size 432x288 with 1 Axes>"
      ]
     },
     "metadata": {
      "needs_background": "light"
     },
     "output_type": "display_data"
    }
   ],
   "source": [
    "import matplotlib.pyplot as straightLine\n",
    "import matplotlib.pyplot as scatteredGraph\n",
    "\n",
    "## Functions \n",
    "\n",
    "def display_rule():\n",
    "    print(\"Input x = 0 and y = 0 in order stop inputing the values...\")\n",
    "\n",
    "def graph_labels():\n",
    "    scatteredGraph.xlabel(\"X Axis\")\n",
    "    scatteredGraph.ylabel(\"Y Axis\")\n",
    "    scatteredGraph.title(\"Graph\")\n",
    "\n",
    "def display_result(sum_x, sum_y, sum_xy, sum_xSQ):\n",
    "    print(\"Summation of x: \", sum_x)\n",
    "    print(\"Summation of y: \", sum_y)\n",
    "    print(\"Summation of x*y: \", sum_xy)\n",
    "    print(\"Summation of x^2: \", sum_xSQ)\n",
    "\n",
    "\n",
    "## Start from here\n",
    "\n",
    "display_rule()\n",
    "\n",
    "i = 0\n",
    "a = 0\n",
    "sum_x = 0\n",
    "sum_y = 0\n",
    "sum_xy = 0\n",
    "sum_xSQ = 0\n",
    "\n",
    "xList = []\n",
    "yList = []\n",
    "mList = []\n",
    "max = 0\n",
    "min = 5000\n",
    "\n",
    "while (i == 0):\n",
    "    x = int(input(\"x: \"))\n",
    "    y = int(input(\"y: \"))\n",
    "    if x == 0 and y == 0:\n",
    "        break\n",
    "    xList.append(x)\n",
    "    yList.append(y)\n",
    "    if x >= max:\n",
    "        if y > x:\n",
    "            max = y\n",
    "        else:\n",
    "            max = x\n",
    "    if x <= min:\n",
    "        if y < x:\n",
    "            min = y\n",
    "        else:\n",
    "            min = x\n",
    "    sum_x += x\n",
    "    sum_y += y\n",
    "    sum_xy += (x * y)\n",
    "    sum_xSQ += (x*x)\n",
    "\n",
    "for i in range (min, max+5):\n",
    "    mList.append(i)\n",
    "\n",
    "display_result(sum_x, sum_y, sum_xy, sum_xSQ) # Display the results  \n",
    "\n",
    "scatteredGraph.scatter(xList, yList, color=\"red\") # dot's will have red color\n",
    "straightLine.plot(mList, mList, color=\"blue\") # that straight line will have blue color\n",
    "graph_labels() # show the basic information (X axis, Y axis and Graph title)\n",
    "# Displaying two graphs at ones (Scattered with straight line)\n",
    "straightLine.show()\n",
    "scatteredGraph.show()"
   ]
  },
  {
   "cell_type": "code",
   "execution_count": null,
   "metadata": {},
   "outputs": [],
   "source": []
  }
 ],
 "metadata": {
  "kernelspec": {
   "display_name": "Python 3",
   "language": "python",
   "name": "python3"
  },
  "language_info": {
   "codemirror_mode": {
    "name": "ipython",
    "version": 3
   },
   "file_extension": ".py",
   "mimetype": "text/x-python",
   "name": "python",
   "nbconvert_exporter": "python",
   "pygments_lexer": "ipython3",
   "version": "3.7.1"
  }
 },
 "nbformat": 4,
 "nbformat_minor": 2
}
